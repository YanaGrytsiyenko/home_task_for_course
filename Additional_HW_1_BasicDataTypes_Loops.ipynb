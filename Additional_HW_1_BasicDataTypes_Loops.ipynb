{
  "cells": [
    {
      "cell_type": "markdown",
      "id": "5b1cae7d",
      "metadata": {
        "id": "5b1cae7d"
      },
      "source": [
        "1.Задане значення у змінній var. Перетворіть значення в змінній var на цілочисельне, запишіть в нову змінну `var_int` та виведіть тип нової змінної `var_int`."
      ]
    },
    {
      "cell_type": "code",
      "execution_count": 1,
      "id": "d93f77ed",
      "metadata": {
        "ExecuteTime": {
          "end_time": "2023-06-13T11:52:35.489925Z",
          "start_time": "2023-06-13T11:52:35.487238Z"
        },
        "id": "d93f77ed"
      },
      "outputs": [],
      "source": [
        "var = '1224'"
      ]
    },
    {
      "cell_type": "code",
      "execution_count": 2,
      "id": "5a4afe8f",
      "metadata": {
        "id": "5a4afe8f",
        "colab": {
          "base_uri": "https://localhost:8080/"
        },
        "outputId": "50ed1bc5-c2c2-4a25-ca23-4cfcd259a926"
      },
      "outputs": [
        {
          "output_type": "execute_result",
          "data": {
            "text/plain": [
              "int"
            ]
          },
          "metadata": {},
          "execution_count": 2
        }
      ],
      "source": [
        "var_int = int(var)\n",
        "type(var_int)"
      ]
    },
    {
      "cell_type": "markdown",
      "id": "eb3d19d8",
      "metadata": {
        "ExecuteTime": {
          "end_time": "2023-06-13T13:00:19.611699Z",
          "start_time": "2023-06-13T13:00:19.607737Z"
        },
        "id": "eb3d19d8"
      },
      "source": [
        "2.У Вас є список слів. Виведіть кожне третє слово в списку."
      ]
    },
    {
      "cell_type": "code",
      "execution_count": 3,
      "id": "477f4ced",
      "metadata": {
        "ExecuteTime": {
          "end_time": "2023-06-13T13:00:02.052801Z",
          "start_time": "2023-06-13T13:00:02.048798Z"
        },
        "id": "477f4ced"
      },
      "outputs": [],
      "source": [
        "words = [\"apple\", \"banana\", \"cherry\", \"date\", \"elderberry\", \"fig\", \"grape\", \"honeydew\", \"ice cream\", \"jackfruit\", \"kiwi\", \"lemon\", \"mango\", \"nectarine\", \"orange\", \"pineapple\", \"quince\", \"raspberry\", \"strawberry\", \"tangerine\", \"ugli fruit\", \"vanilla\", \"watermelon\", \"xigua\", \"yam\", \"zucchini\"]"
      ]
    },
    {
      "cell_type": "code",
      "source": [
        "print(words[2::3])"
      ],
      "metadata": {
        "colab": {
          "base_uri": "https://localhost:8080/"
        },
        "id": "s0nqxtGuvFb6",
        "outputId": "4db900d9-ea45-475f-a0f6-88998d45b1c7"
      },
      "id": "s0nqxtGuvFb6",
      "execution_count": 4,
      "outputs": [
        {
          "output_type": "stream",
          "name": "stdout",
          "text": [
            "['cherry', 'fig', 'ice cream', 'lemon', 'orange', 'raspberry', 'ugli fruit', 'xigua']\n"
          ]
        }
      ]
    },
    {
      "cell_type": "markdown",
      "id": "394d1dea",
      "metadata": {
        "id": "394d1dea"
      },
      "source": [
        "3.Скільки всього СЛІВ у списку `words`?"
      ]
    },
    {
      "cell_type": "code",
      "execution_count": 5,
      "id": "83c88182",
      "metadata": {
        "id": "83c88182",
        "colab": {
          "base_uri": "https://localhost:8080/"
        },
        "outputId": "b1dbaf0f-bc15-4dc1-a6ad-52271afcbef2"
      },
      "outputs": [
        {
          "output_type": "execute_result",
          "data": {
            "text/plain": [
              "26"
            ]
          },
          "metadata": {},
          "execution_count": 5
        }
      ],
      "source": [
        "len(words)"
      ]
    },
    {
      "cell_type": "markdown",
      "id": "703d1620",
      "metadata": {
        "ExecuteTime": {
          "end_time": "2023-06-13T13:03:17.414285Z",
          "start_time": "2023-06-13T13:03:17.409285Z"
        },
        "id": "703d1620"
      },
      "source": [
        "4.Скільки всього СИМОВЛІВ в усіх словах у списку words? Символи - це і літери і наприклад, пробіли, знаки пукнтуації - `.,!?` і тд. Нас цікавить їх загальна кількість."
      ]
    },
    {
      "cell_type": "code",
      "execution_count": 6,
      "id": "c44d04d9",
      "metadata": {
        "id": "c44d04d9",
        "colab": {
          "base_uri": "https://localhost:8080/"
        },
        "outputId": "5ef87aa5-e913-412f-97b2-ec2e45f10bd8"
      },
      "outputs": [
        {
          "output_type": "execute_result",
          "data": {
            "text/plain": [
              "180"
            ]
          },
          "metadata": {},
          "execution_count": 6
        }
      ],
      "source": [
        "sum(len(x) for x in words)"
      ]
    },
    {
      "cell_type": "markdown",
      "id": "4c95f6a3",
      "metadata": {
        "id": "4c95f6a3"
      },
      "source": [
        "5.Скільки разів зустрічається кожен символ в усіх словах списку `words`? Відсортуйте символи в результуючому словнику за алфавітним порядком."
      ]
    },
    {
      "cell_type": "code",
      "execution_count": 7,
      "id": "f6cff6cb",
      "metadata": {
        "id": "f6cff6cb",
        "colab": {
          "base_uri": "https://localhost:8080/",
          "height": 499
        },
        "outputId": "0445e77b-2e3d-4684-e87e-c965b0bf8ae4"
      },
      "outputs": [
        {
          "output_type": "display_data",
          "data": {
            "text/plain": [
              "{' ': 2,\n",
              " 'a': 20,\n",
              " 'b': 4,\n",
              " 'c': 8,\n",
              " 'd': 3,\n",
              " 'e': 24,\n",
              " 'f': 3,\n",
              " 'g': 7,\n",
              " 'h': 3,\n",
              " 'i': 15,\n",
              " 'j': 1,\n",
              " 'k': 2,\n",
              " 'l': 8,\n",
              " 'm': 5,\n",
              " 'n': 15,\n",
              " 'o': 5,\n",
              " 'p': 7,\n",
              " 'q': 1,\n",
              " 'r': 19,\n",
              " 's': 2,\n",
              " 't': 7,\n",
              " 'u': 6,\n",
              " 'v': 1,\n",
              " 'w': 4,\n",
              " 'x': 1,\n",
              " 'y': 6,\n",
              " 'z': 1}"
            ]
          },
          "metadata": {}
        }
      ],
      "source": [
        "sorted_dict = {}\n",
        "for x in words:\n",
        "  for num in x:\n",
        "    if num in sorted_dict:\n",
        "      sorted_dict[num] += 1\n",
        "    else:\n",
        "      sorted_dict[num] = 1\n",
        "sorted_dict = dict(sorted(sorted_dict.items()))\n",
        "display(sorted_dict)"
      ]
    },
    {
      "cell_type": "markdown",
      "id": "94d9f1cc",
      "metadata": {
        "id": "94d9f1cc"
      },
      "source": [
        "Очікуваний результат:\n",
        "```\n",
        "{' ': 2,\n",
        " 'a': 20,\n",
        " 'b': 4,\n",
        " 'c': 8,\n",
        " 'd': 3,\n",
        " 'e': 24,\n",
        " 'f': 3,\n",
        " 'g': 7,\n",
        " 'h': 3,\n",
        " 'i': 15,\n",
        " 'j': 1,\n",
        " 'k': 2,\n",
        " 'l': 8,\n",
        " 'm': 5,\n",
        " 'n': 15,\n",
        " 'o': 5,\n",
        " 'p': 7,\n",
        " 'q': 1,\n",
        " 'r': 19,\n",
        " 's': 2,\n",
        " 't': 7,\n",
        " 'u': 6,\n",
        " 'v': 1,\n",
        " 'w': 4,\n",
        " 'x': 1,\n",
        " 'y': 6,\n",
        " 'z': 1}\n",
        " ```"
      ]
    },
    {
      "cell_type": "markdown",
      "id": "c93ac384",
      "metadata": {
        "id": "c93ac384"
      },
      "source": [
        "6.Використовуючи результат виконання попереднього завдання, виведіть на екран той символ, який зустрічається найчастіше і скільки разів він зустрічається. Це треба зробити програмно, а не просто подивившись на дані :)"
      ]
    },
    {
      "cell_type": "code",
      "execution_count": 8,
      "id": "9ddfb851",
      "metadata": {
        "id": "9ddfb851",
        "colab": {
          "base_uri": "https://localhost:8080/"
        },
        "outputId": "4f22e051-17c3-440d-df0d-a1bd390de633"
      },
      "outputs": [
        {
          "output_type": "stream",
          "name": "stdout",
          "text": [
            "24\n",
            "['e']\n"
          ]
        }
      ],
      "source": [
        "print(max(sorted_dict.values()))\n",
        "max_key = [key for key in sorted_dict if sorted_dict[key] == max(sorted_dict.values())]\n",
        "print(max_key)"
      ]
    },
    {
      "cell_type": "markdown",
      "id": "f40adbed",
      "metadata": {
        "id": "f40adbed"
      },
      "source": [
        "7.Для кожного елементу списку виведіть тип елемену. Якщо тип обʼєкту - int (тільки цей тип безпосередньо!), виведіть результат піднесення цього числа до степеню 5."
      ]
    },
    {
      "cell_type": "code",
      "execution_count": 9,
      "id": "f92249ac",
      "metadata": {
        "ExecuteTime": {
          "end_time": "2023-06-13T12:53:04.365735Z",
          "start_time": "2023-06-13T12:53:04.362441Z"
        },
        "id": "f92249ac"
      },
      "outputs": [],
      "source": [
        "elements = [12, 'type', 'Bob', True, 'False', 1.414, 1444.333, 123/33, 5]"
      ]
    },
    {
      "cell_type": "code",
      "execution_count": 10,
      "id": "96b72186",
      "metadata": {
        "id": "96b72186",
        "colab": {
          "base_uri": "https://localhost:8080/"
        },
        "outputId": "e358ab8b-0859-4b96-d5fd-66ced301ec3a"
      },
      "outputs": [
        {
          "output_type": "stream",
          "name": "stdout",
          "text": [
            "[<class 'int'>, <class 'str'>, <class 'str'>, <class 'bool'>, <class 'str'>, <class 'float'>, <class 'float'>, <class 'float'>, <class 'int'>]\n",
            "[248832, 3125]\n"
          ]
        }
      ],
      "source": [
        "elements_type = [type(x) for x in elements]\n",
        "print(elements_type)\n",
        "\n",
        "if int in elements_type:\n",
        "  y = [x ** 5 for x in elements if type(x) == int]\n",
        "print(y)\n",
        "\n"
      ]
    },
    {
      "cell_type": "markdown",
      "id": "cf2247c7",
      "metadata": {
        "ExecuteTime": {
          "end_time": "2023-06-13T12:55:17.795510Z",
          "start_time": "2023-06-13T12:55:17.787158Z"
        },
        "id": "cf2247c7"
      },
      "source": [
        "Приклад очікуваного результату (текстові коментарі і форматування можуть бути іншими):\n",
        "```\n",
        "    The type of element 12 is <class 'int'>\n",
        "    This is a number! Let't take it to power 5! The result is: 248832\n",
        "    The type of element type is <class 'str'>\n",
        "    The type of element Bob is <class 'str'>\n",
        "    The type of element True is <class 'bool'>\n",
        "    The type of element False is <class 'str'>\n",
        "    The type of element 1.414 is <class 'float'>\n",
        "    The type of element 1444.333 is <class 'float'>\n",
        "    The type of element 3.727272727272727 is <class 'float'>\n",
        "    The type of element 5 is <class 'int'>\n",
        "    This is a number! Let't take it to power 5! The result is: 3125\n",
        "```"
      ]
    },
    {
      "cell_type": "markdown",
      "id": "76a0bef2",
      "metadata": {
        "id": "76a0bef2"
      },
      "source": [
        "8.Створіть програму, яка:\n",
        "\n",
        "- Для визначених значень `name` та `age` друкує повідомлення \"Привіт, [Ім’я] ! Вам [Вік] років.\".\n",
        "- Обчислює, скільки років залишилося користувачеві до 100 років, і друкує повідомлення з цією інформацією: \"До 100 років Вам лишилось [Число] років.\"  \n",
        "\n",
        "Запустіть програму для набору користувачів нижче."
      ]
    },
    {
      "cell_type": "code",
      "execution_count": 11,
      "id": "0092963a",
      "metadata": {
        "ExecuteTime": {
          "end_time": "2023-06-13T12:30:11.462941Z",
          "start_time": "2023-06-13T12:30:11.459673Z"
        },
        "id": "0092963a"
      },
      "outputs": [],
      "source": [
        "users = [\n",
        "    ['Karl', 30],\n",
        "    ['Klara', 15],\n",
        "    ['Alexis', 56],\n",
        "    ['Charles', 99]\n",
        "]"
      ]
    },
    {
      "cell_type": "code",
      "execution_count": 15,
      "id": "8d6d820e",
      "metadata": {
        "id": "8d6d820e",
        "colab": {
          "base_uri": "https://localhost:8080/"
        },
        "outputId": "d5aac0b0-f8a8-435d-c190-0bf28b963d40"
      },
      "outputs": [
        {
          "output_type": "stream",
          "name": "stdout",
          "text": [
            "Привіт, Karl ! Вам 30 років.\n",
            "До 100 років Вам лишилось 70 років.\n",
            "Привіт, Klara ! Вам 15 років.\n",
            "До 100 років Вам лишилось 85 років.\n",
            "Привіт, Alexis ! Вам 56 років.\n",
            "До 100 років Вам лишилось 44 років.\n",
            "Привіт, Charles ! Вам 99 років.\n",
            "До 100 років Вам лишилось 1 років.\n"
          ]
        }
      ],
      "source": [
        "users_dict = dict(users)\n",
        "for name, age in users_dict.items():\n",
        "  print(f\"Привіт, {name} ! Вам {age} років.\")\n",
        "  if age < 100:\n",
        "    print(f\"До 100 років Вам лишилось {100 - age} років.\")"
      ]
    },
    {
      "cell_type": "markdown",
      "id": "45fedbc4",
      "metadata": {
        "id": "45fedbc4"
      },
      "source": [
        "9.Напишть фрагмент коду, який перевіряє, чи слово є паліндромом. Слово (або фраза) є паліндромом, якщо при читанні його зворотньому напрямі буде таке саме слово.\n",
        "Наприклад, слово \"radar\" є паліндромом, але \"radix\" не є паліндромом. Код в кінці має видавати результат True або False.  \n",
        "Код має звертати увагу лише на символи-літери. Регістр літер не має значення, а знаки пунктуації (кома, крапка) та `-+=/\\`` мають бути вилучені з рядка перед перевіркою. Так само, пробіли не впливають на визначення,чи слово є палендромом. Мають значення лише літери.\n",
        "Тобто рядки \"A mam, a\" та \"A mamA\" є паліндромами, а \"AmamU\" - ні.\n",
        "\n",
        "Опціонально ви можете розмістити код на перевірку чи є слово паліндромом у фукнцію.\n",
        "Запустіть свій код для рядків з набору нижче і виведіть результат перевірки на екран для кожного рядка."
      ]
    },
    {
      "cell_type": "code",
      "execution_count": 57,
      "id": "4cca3eed",
      "metadata": {
        "ExecuteTime": {
          "end_time": "2023-06-13T12:24:02.288183Z",
          "start_time": "2023-06-13T12:24:02.285245Z"
        },
        "id": "4cca3eed"
      },
      "outputs": [],
      "source": [
        "phrases_to_check = [\n",
        "    'radar',\n",
        "    'radix',\n",
        "    'A mam, a',\n",
        "    'A mamA',\n",
        "    'Sit on a potato pan Otis',\n",
        "    'Taco cat.',\n",
        "    'Taco cat',\n",
        "    'Tornado',\n",
        "    \"Go hang a salami, I'm a lasagna hog.\"\n",
        "]"
      ]
    },
    {
      "cell_type": "code",
      "source": [
        "def is_palindrome(phrases):\n",
        " phrases = phrases.lower()\n",
        " for x in [\",\",\" \",\".\",\"'\",\"\"]:\n",
        "  phrases = phrases.replace(x, \"\")\n",
        " return phrases == phrases [::-1]"
      ],
      "metadata": {
        "id": "zwsVK44pZE_F"
      },
      "id": "zwsVK44pZE_F",
      "execution_count": 72,
      "outputs": []
    },
    {
      "cell_type": "code",
      "source": [
        "for phrases in phrases_to_check:\n",
        "    result = is_palindrome(phrases)\n",
        "    print(f'{phrases} - {result}')"
      ],
      "metadata": {
        "colab": {
          "base_uri": "https://localhost:8080/"
        },
        "id": "SQfHKhWseb63",
        "outputId": "fed09a1b-1aec-4e9a-e52a-29b6d2557bed"
      },
      "id": "SQfHKhWseb63",
      "execution_count": 73,
      "outputs": [
        {
          "output_type": "stream",
          "name": "stdout",
          "text": [
            "radar - True\n",
            "radix - False\n",
            "A mam, a - True\n",
            "A mamA - True\n",
            "Sit on a potato pan Otis - True\n",
            "Taco cat. - True\n",
            "Taco cat - True\n",
            "Tornado - False\n",
            "Go hang a salami, I'm a lasagna hog. - True\n"
          ]
        }
      ]
    },
    {
      "cell_type": "markdown",
      "id": "e51c421d",
      "metadata": {
        "id": "e51c421d"
      },
      "source": [
        "Очкувані результати обчислень:\n",
        "```\n",
        "    radar - True\n",
        "    radix - False\n",
        "    A mam, a - True\n",
        "    A mamA - True\n",
        "    Sit on a potato pan Otis - True\n",
        "    Taco cat. - True\n",
        "    Taco cat - True\n",
        "    Tornado - False\n",
        "    Go hang a salami, I'm a lasagna hog. - True\n",
        "```"
      ]
    }
  ],
  "metadata": {
    "kernelspec": {
      "display_name": "Python 3 (ipykernel)",
      "language": "python",
      "name": "python3"
    },
    "language_info": {
      "codemirror_mode": {
        "name": "ipython",
        "version": 3
      },
      "file_extension": ".py",
      "mimetype": "text/x-python",
      "name": "python",
      "nbconvert_exporter": "python",
      "pygments_lexer": "ipython3",
      "version": "3.10.4"
    },
    "toc": {
      "base_numbering": 1,
      "nav_menu": {},
      "number_sections": true,
      "sideBar": true,
      "skip_h1_title": false,
      "title_cell": "Table of Contents",
      "title_sidebar": "Contents",
      "toc_cell": false,
      "toc_position": {},
      "toc_section_display": true,
      "toc_window_display": false
    },
    "colab": {
      "provenance": []
    }
  },
  "nbformat": 4,
  "nbformat_minor": 5
}