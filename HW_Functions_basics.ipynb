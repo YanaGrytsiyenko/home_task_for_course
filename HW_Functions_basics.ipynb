{
  "nbformat": 4,
  "nbformat_minor": 0,
  "metadata": {
    "colab": {
      "provenance": []
    },
    "kernelspec": {
      "name": "python3",
      "display_name": "Python 3"
    },
    "language_info": {
      "name": "python"
    }
  },
  "cells": [
    {
      "cell_type": "markdown",
      "source": [
        "# Домашнє завдання до теми \"Functions\""
      ],
      "metadata": {
        "id": "QtHabST6Ez_n"
      }
    },
    {
      "cell_type": "markdown",
      "source": [
        "1. Напишіть фукнцію `print_message`, яка виводить на екран \"Я програмую на Python💪\" і викличіть цю фукнцію 5 разів (найкраще це зробити в циклі).\n",
        "\n",
        "  **Увага**: фукнція має робити чітко лише зазначений функціонал. Наявність додаткового функціоналу і аргументів, які не потрібні для виконання безпосередньо завдання, буде вважатись помилкою."
      ],
      "metadata": {
        "id": "6pg_NzFq5_kO"
      }
    },
    {
      "cell_type": "code",
      "source": [
        "def print_message():\n",
        " print(\"Я програмую на Python💪\")"
      ],
      "metadata": {
        "id": "RbXsfwI_D8ql"
      },
      "execution_count": 14,
      "outputs": []
    },
    {
      "cell_type": "code",
      "source": [
        "for i in range(5):\n",
        "  print_message()"
      ],
      "metadata": {
        "colab": {
          "base_uri": "https://localhost:8080/"
        },
        "id": "S7ZI2AbjDkSE",
        "outputId": "36ab208b-b4c0-45b2-a7e0-257891b81b79"
      },
      "execution_count": 15,
      "outputs": [
        {
          "output_type": "stream",
          "name": "stdout",
          "text": [
            "Я програмую на Python💪\n",
            "Я програмую на Python💪\n",
            "Я програмую на Python💪\n",
            "Я програмую на Python💪\n",
            "Я програмую на Python💪\n"
          ]
        }
      ]
    },
    {
      "cell_type": "markdown",
      "source": [
        "2. Напишіть функцію `calculation` яка приймає на вхід 4 аргументи типу int - `a`, `b`, `c`, `d` і вертає результат обчислення такої формули: $ (a + b - c) * d $.\n",
        "\n",
        "  Викличте функцію на наступному наборі аргументів і виведіть результат на екран:\n",
        "  ```\n",
        "  a = 16\n",
        "  b = 4\n",
        "  c = 9\n",
        "  d = 3\n",
        "  ```"
      ],
      "metadata": {
        "id": "oyRpWRXWBL9N"
      }
    },
    {
      "cell_type": "code",
      "source": [
        "def calculation (a,b,c,d):\n",
        "  return (a + b -c) * d"
      ],
      "metadata": {
        "id": "Ggt2tx6kD-LS"
      },
      "execution_count": 16,
      "outputs": []
    },
    {
      "cell_type": "code",
      "source": [
        "a = 16\n",
        "b = 4\n",
        "c = 9\n",
        "d = 3\n",
        "calculation (a,b,c,d)"
      ],
      "metadata": {
        "colab": {
          "base_uri": "https://localhost:8080/"
        },
        "id": "WrnuAS-cFBGE",
        "outputId": "6982c531-e49a-43bb-e8a7-a5c10f7e5880"
      },
      "execution_count": 17,
      "outputs": [
        {
          "output_type": "execute_result",
          "data": {
            "text/plain": [
              "33"
            ]
          },
          "metadata": {},
          "execution_count": 17
        }
      ]
    },
    {
      "cell_type": "markdown",
      "source": [
        "3. Напишіть функцію, яка додає до аргумента 15 і вертає результат додавання. Викличте функцію, передаючи в якості аргументів кожну з наступних змінних по черзі, і виведіть кожного разу результат на екран.\n",
        "```\n",
        "x = 9\n",
        "y = 14\n",
        "z = -19\n",
        "```"
      ],
      "metadata": {
        "id": "5hf1CbllDU_t"
      }
    },
    {
      "cell_type": "code",
      "source": [
        "def add_15(variable):\n",
        "  return variable + 15"
      ],
      "metadata": {
        "id": "GvEs_nUtD_Cd"
      },
      "execution_count": 23,
      "outputs": []
    },
    {
      "cell_type": "code",
      "source": [
        "x = 9\n",
        "add_15(x)"
      ],
      "metadata": {
        "colab": {
          "base_uri": "https://localhost:8080/"
        },
        "id": "lN9Myq6bFtrK",
        "outputId": "517bce9c-e591-4270-f4e9-6323692d1dd8"
      },
      "execution_count": 25,
      "outputs": [
        {
          "output_type": "execute_result",
          "data": {
            "text/plain": [
              "24"
            ]
          },
          "metadata": {},
          "execution_count": 25
        }
      ]
    },
    {
      "cell_type": "code",
      "source": [
        "y = 14\n",
        "add_15(y)"
      ],
      "metadata": {
        "colab": {
          "base_uri": "https://localhost:8080/"
        },
        "id": "dMb4xI0tGk-8",
        "outputId": "71ce5873-99f6-4798-fb78-fcb5798878a2"
      },
      "execution_count": 26,
      "outputs": [
        {
          "output_type": "execute_result",
          "data": {
            "text/plain": [
              "29"
            ]
          },
          "metadata": {},
          "execution_count": 26
        }
      ]
    },
    {
      "cell_type": "code",
      "source": [
        "z = -19\n",
        "add_15(z)"
      ],
      "metadata": {
        "colab": {
          "base_uri": "https://localhost:8080/"
        },
        "id": "XXLSIMuTGrcv",
        "outputId": "caf73130-0e64-4307-fe09-044931eee9a0"
      },
      "execution_count": 27,
      "outputs": [
        {
          "output_type": "execute_result",
          "data": {
            "text/plain": [
              "-4"
            ]
          },
          "metadata": {},
          "execution_count": 27
        }
      ]
    },
    {
      "cell_type": "markdown",
      "source": [
        "4. Напишіть функцію `multipy_numbers`, яка приймає два числа як аргументи і повертає їх добуток.\n",
        "\n",
        "  Викличіть функцію `multipy_numbers` на парах чисел\n",
        "    - 10 і 2\n",
        "    - 7 і 8\n",
        "    - 1024 і 999.\n",
        "  \n",
        "  Виведіть результат кожного виклику.\n",
        "  При виконанні цього завдання з використанням циклу - отримаєте 2х балів за нього :)"
      ],
      "metadata": {
        "id": "bUuVBhie53uK"
      }
    },
    {
      "cell_type": "code",
      "source": [
        "def multipy_numbers(a,b):\n",
        "  return a * b"
      ],
      "metadata": {
        "id": "cDqrgZ4YEAKj"
      },
      "execution_count": 28,
      "outputs": []
    },
    {
      "cell_type": "code",
      "source": [
        "for a, b in ((10,2), (7,8), (1024, 999)):\n",
        " print(f\"Коли {a} і {b} помножити, вийде - {multipy_numbers(a,b)}\")"
      ],
      "metadata": {
        "colab": {
          "base_uri": "https://localhost:8080/"
        },
        "id": "rBJRxaWBH6CG",
        "outputId": "bcd0ebca-343f-4aad-a5cd-9caaad85ec55"
      },
      "execution_count": 37,
      "outputs": [
        {
          "output_type": "stream",
          "name": "stdout",
          "text": [
            "Коли 10 і 2 помножити, вийде - 20\n",
            "Коли 7 і 8 помножити, вийде - 56\n",
            "Коли 1024 і 999 помножити, вийде - 1022976\n"
          ]
        }
      ]
    },
    {
      "cell_type": "markdown",
      "source": [
        "5. **Ділення з перевіркою типів.**  \n",
        "\n",
        "  1. Напишіть функцію `int_division` яка приймає на вхід два аргументи типу `int` - `a` і `b`, і виконує ділення першого аргумента на другий: `a/b`. При цьому функція перед діленням перевіряє, чи другий аргумент не дорівнює 0. Якщо другий аргумент не 0, фукнція вертає результат ділення, інакше - замість виконання ділення, вертає повідомлення на екран \"Не можу виконати ділення на 0\".\n",
        "\n",
        "    Якщо типи, надані у функцію, не `int` - функція виводить повідомлення \"Не працюю з такими типами даних.\".\n",
        "\n",
        "  2. Запустіть функцію на наступних парах чисел:\n",
        "  - 12 і 6\n",
        "  - 20 і 0\n",
        "  - 112 і 10\n",
        "  - 99 і 0\n",
        "  - 11 i 1.1\n",
        "\n",
        "    і виведіть на екран повідомлення \"Результат роботи функції: \" - і далі те, що повернула функція.\n",
        "\n",
        "  3. Дайте відповідь на питання: \"Чому в деяких випадках функція повернула None?\""
      ],
      "metadata": {
        "id": "I03t46k27dDZ"
      }
    },
    {
      "cell_type": "code",
      "source": [
        "def int_division (a: int,b: int):\n",
        " if type(a) != int or type(b) != int: # Якщо типи, надані у функцію, не int\n",
        "  return ('Не працюю з такими типами даних')\n",
        " elif b != 0: # чи другий аргумент не дорівнює 0\n",
        "  return a / b\n",
        " elif b == 0: # не може виконати ділення\n",
        "  return ('Не можу виконати ділення на 0')"
      ],
      "metadata": {
        "id": "1-EQhxrAEEAb"
      },
      "execution_count": 77,
      "outputs": []
    },
    {
      "cell_type": "code",
      "source": [
        "for a, b in ((12,6), (20,0), (112,10), (99,0), (11,1.1)):\n",
        "  print(f\"Результат роботи функції: {int_division (a,b)}\")"
      ],
      "metadata": {
        "colab": {
          "base_uri": "https://localhost:8080/"
        },
        "id": "g3r6rUJKLumk",
        "outputId": "61ba8c6a-0942-4031-b0bf-b32dc5d0f53b"
      },
      "execution_count": 79,
      "outputs": [
        {
          "output_type": "stream",
          "name": "stdout",
          "text": [
            "Результат роботи функції: 2.0\n",
            "Результат роботи функції: Не можу виконати ділення на 0\n",
            "Результат роботи функції: 11.2\n",
            "Результат роботи функції: Не можу виконати ділення на 0\n",
            "Результат роботи функції: Не працюю з такими типами даних\n"
          ]
        }
      ]
    },
    {
      "cell_type": "markdown",
      "source": [
        "`Дайте відповідь на питання: \"Чому в деяких випадках функція повернула None?\"`\n",
        "\n",
        "---\n",
        "\n",
        "\n",
        "Спершу в мене теж видавало None, бо я в мене і видавало значення і друкувало повідомлення. + Умови були в іншому порядку і виходить функція зараз відразу зчитує найважливішу інфу по типу даних.\n"
      ],
      "metadata": {
        "id": "fkgUE3SjMnCS"
      }
    },
    {
      "cell_type": "code",
      "source": [],
      "metadata": {
        "id": "tu8ekWBxRzAK"
      },
      "execution_count": null,
      "outputs": []
    }
  ]
}